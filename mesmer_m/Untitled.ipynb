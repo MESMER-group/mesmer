{
 "cells": [
  {
   "cell_type": "code",
   "execution_count": null,
   "id": "30a205aa",
   "metadata": {},
   "outputs": [],
   "source": [
    "import tests_harmonic_model as thm\n",
    "import importlib\n",
    "importlib.reload(thm)\n"
   ]
  },
  {
   "cell_type": "code",
   "execution_count": null,
   "id": "7d888e6c",
   "metadata": {},
   "outputs": [],
   "source": [
    "\n",
    "\n",
    "n_sel,mse,y_acts, y_preds = thm.BIC_gridsearch_domain(4,1)\n",
    "\n"
   ]
  },
  {
   "cell_type": "code",
   "execution_count": null,
   "id": "9393ec1a",
   "metadata": {},
   "outputs": [],
   "source": [
    "n_sel.shape"
   ]
  },
  {
   "cell_type": "code",
   "execution_count": null,
   "id": "88d1f77c",
   "metadata": {},
   "outputs": [],
   "source": [
    "import matplotlib.pyplot as plt\n",
    "import numpy as np\n",
    "\n",
    "plt.figure(figsize=(10,7))\n",
    "\n",
    "for n_run in range(1):\n",
    "\n",
    "    plt.scatter(np.arange(1,5),n_sel[:,n_run])\n",
    "\n",
    "plt.plot(np.arange(1,5), np.arange(1,5))"
   ]
  },
  {
   "cell_type": "code",
   "execution_count": null,
   "id": "7eea7caf",
   "metadata": {},
   "outputs": [],
   "source": [
    "plt.figure(figsize=(10,7))\n",
    "\n",
    "for n_run in range(30):\n",
    "\n",
    "    plt.scatter(np.arange(1,11),mse[:,n_run,6])\n",
    "\n"
   ]
  },
  {
   "cell_type": "code",
   "execution_count": null,
   "id": "777de5a8",
   "metadata": {},
   "outputs": [],
   "source": [
    "plt.plot(np.arange(120), y_acts[1][4,-120:\n",
    "                                  ])\n",
    "plt.plot(np.arange(120), y_preds[1][4,-120:])"
   ]
  },
  {
   "cell_type": "code",
   "execution_count": null,
   "id": "4c7b8d8e",
   "metadata": {},
   "outputs": [],
   "source": []
  }
 ],
 "metadata": {
  "kernelspec": {
   "display_name": "Python 3 (ipykernel)",
   "language": "python",
   "name": "python3"
  },
  "language_info": {
   "codemirror_mode": {
    "name": "ipython",
    "version": 3
   },
   "file_extension": ".py",
   "mimetype": "text/x-python",
   "name": "python",
   "nbconvert_exporter": "python",
   "pygments_lexer": "ipython3",
   "version": "3.9.7"
  }
 },
 "nbformat": 4,
 "nbformat_minor": 5
}
