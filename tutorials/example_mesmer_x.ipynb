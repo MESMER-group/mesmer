{
 "cells": [
  {
   "cell_type": "markdown",
   "id": "1bbf1855",
   "metadata": {},
   "source": [
    "# MESMER-X example workflow"
   ]
  },
  {
   "cell_type": "code",
   "execution_count": null,
   "id": "90fec2f2",
   "metadata": {},
   "outputs": [],
   "source": [
    "import pathlib\n",
    "\n",
    "import xarray as xr\n",
    "\n",
    "import mesmer\n",
    "from mesmer.mesmer_x import (\n",
    "    ConditionalDistribution,\n",
    "    Expression,\n",
    "    ProbabilityIntegralTransform,\n",
    ")"
   ]
  },
  {
   "cell_type": "code",
   "execution_count": null,
   "id": "18fcb0f2",
   "metadata": {},
   "outputs": [],
   "source": [
    "scenario = \"ssp585\"\n",
    "target_name = \"tasmax\"\n",
    "option_2ndfit = False\n",
    "save_files = False"
   ]
  },
  {
   "cell_type": "code",
   "execution_count": null,
   "id": "c99581a9",
   "metadata": {},
   "outputs": [],
   "source": [
    "# set some configuration parameters\n",
    "THRESHOLD_LAND = 1 / 3\n",
    "esm = \"IPSL-CM6A-LR\"\n",
    "\n",
    "# TODO: replace with filefinder later\n",
    "# load data\n",
    "test_data_path = pathlib.Path(\"/Users/vbauer/Developer/mesmer/tests/test-data\")\n",
    "test_path = test_data_path / \"output\" / target_name / \"one_scen_one_ens\" / \"test-params\"\n",
    "cmip6_data_path = mesmer.example_data.cmip6_ng_path()"
   ]
  },
  {
   "cell_type": "code",
   "execution_count": null,
   "id": "abc75b34",
   "metadata": {},
   "outputs": [],
   "source": [
    "# load predictor data\n",
    "path_tas = cmip6_data_path / \"tas\" / \"ann\" / \"g025\"\n",
    "\n",
    "fN_hist = path_tas / f\"tas_ann_{esm}_historical_r1i1p1f1_g025.nc\"\n",
    "fN_ssp585 = path_tas / f\"tas_ann_{esm}_{scenario}_r1i1p1f1_g025.nc\"\n",
    "\n",
    "time_coder = xr.coders.CFDatetimeCoder(use_cftime=True)\n",
    "tas_hist = xr.open_dataset(fN_hist, decode_times=time_coder).drop_vars(\n",
    "    [\"height\", \"file_qf\", \"time_bnds\"]\n",
    ")\n",
    "tas_ssp585 = xr.open_dataset(fN_ssp585, decode_times=time_coder).drop_vars(\n",
    "    [\"height\", \"file_qf\", \"time_bnds\"]\n",
    ")\n",
    "\n",
    "tas = xr.DataTree.from_dict(\n",
    "    {\n",
    "        \"historical\": tas_hist,\n",
    "        \"ssp585\": tas_ssp585,\n",
    "    }\n",
    ")"
   ]
  },
  {
   "cell_type": "code",
   "execution_count": null,
   "id": "e1d3776c",
   "metadata": {},
   "outputs": [],
   "source": [
    "# make global mean\n",
    "# global_mean_dt = map_over_subtree(mesmer.weighted.global_mean)\n",
    "tas_glob_mean = mesmer.weighted.global_mean(tas)\n",
    "\n",
    "# load target data\n",
    "path_target = cmip6_data_path / target_name / \"ann\" / \"g025\"\n",
    "\n",
    "fN_hist = path_target / f\"{target_name}_ann_{esm}_historical_r1i1p1f1_g025.nc\"\n",
    "fN_ssp585 = path_target / f\"{target_name}_ann_{esm}_{scenario}_r1i1p1f1_g025.nc\"\n",
    "\n",
    "time_coder = xr.coders.CFDatetimeCoder(use_cftime=True)\n",
    "targ_hist = xr.open_dataset(fN_hist, decode_times=time_coder)\n",
    "targ_ssp585 = xr.open_dataset(fN_ssp585, decode_times=time_coder)\n",
    "# make sure times align\n",
    "targ_hist[\"time\"] = tas_hist[\"time\"]\n",
    "targ_ssp585[\"time\"] = tas_ssp585[\"time\"]\n",
    "\n",
    "targ_data = xr.DataTree.from_dict(\n",
    "    {\n",
    "        \"historical\": targ_hist,\n",
    "        \"ssp585\": targ_ssp585,\n",
    "    }\n",
    ")"
   ]
  },
  {
   "cell_type": "code",
   "execution_count": null,
   "id": "caea1039",
   "metadata": {},
   "outputs": [],
   "source": [
    "def mask_and_stack(ds, threshold_land):\n",
    "    ds = mesmer.mask.mask_ocean_fraction(ds, threshold_land)\n",
    "    ds = mesmer.mask.mask_antarctica(ds)\n",
    "    ds = mesmer.grid.stack_lat_lon(ds, stack_dim=\"gridpoint\")\n",
    "    return ds\n",
    "\n",
    "\n",
    "# mask_and_stack_dt = map_over_subtree(mask_and_stack)\n",
    "targ_data = mask_and_stack(targ_data, threshold_land=THRESHOLD_LAND)\n",
    "pred_data = tas_glob_mean.copy()\n",
    "\n",
    "weights = mesmer.datatree.map_over_datasets(xr.ones_like, pred_data)\n",
    "weights = mesmer.datatree.map_over_datasets(\n",
    "    lambda ds: ds.rename({\"tas\": \"weights\"}), weights\n",
    ")"
   ]
  },
  {
   "cell_type": "code",
   "execution_count": null,
   "id": "abfae0b5",
   "metadata": {},
   "outputs": [],
   "source": [
    "# stacking\n",
    "stacked_pred, stacked_targ, stacked_weights = (\n",
    "    mesmer.datatree.broadcast_and_pool_scen_ens(\n",
    "        predictors=pred_data,\n",
    "        target=targ_data,\n",
    "        weights=weights,\n",
    "        member_dim=None,\n",
    "    )\n",
    ")"
   ]
  },
  {
   "cell_type": "code",
   "execution_count": null,
   "id": "2e19e5fb",
   "metadata": {},
   "outputs": [],
   "source": [
    "# declaring analytical form of the conditional distribution\n",
    "expr = \"norm(loc=c1 + c2 * __tas__, scale=c3)\"\n",
    "expr_name = \"expr1\"\n",
    "expression_fit = Expression(expr, expr_name, boundaries_params={}, boundaries_coeffs={})"
   ]
  },
  {
   "cell_type": "code",
   "execution_count": null,
   "id": "9af85a7c",
   "metadata": {},
   "outputs": [],
   "source": [
    "# preparing optimizers that will be used for first guess and training\n",
    "distrib = ConditionalDistribution(expression=expression_fit)"
   ]
  },
  {
   "cell_type": "code",
   "execution_count": null,
   "id": "2474e6af",
   "metadata": {},
   "outputs": [],
   "source": [
    "# find first guess\n",
    "coeffs_fg = distrib.find_first_guess(\n",
    "    predictors=stacked_pred,\n",
    "    target=stacked_targ.tasmax,\n",
    "    weights=stacked_weights.weights,\n",
    ")\n",
    "coeffs_fg"
   ]
  },
  {
   "cell_type": "code",
   "execution_count": null,
   "id": "cc1fc339",
   "metadata": {},
   "outputs": [],
   "source": [
    "# training the conditional distribution\n",
    "# first round\n",
    "distrib.fit(\n",
    "    predictors=stacked_pred,\n",
    "    target=stacked_targ.tasmax,\n",
    "    weights=stacked_weights.weights,\n",
    "    first_guess=coeffs_fg,\n",
    ")\n",
    "transform_coeffs = distrib.coefficients"
   ]
  },
  {
   "cell_type": "code",
   "execution_count": null,
   "id": "4f96da76",
   "metadata": {},
   "outputs": [],
   "source": [
    "# second round if necessary\n",
    "if option_2ndfit:\n",
    "    transform_coeffs = distrib.fit(\n",
    "        predictors=stacked_pred,\n",
    "        target=stacked_targ.tasmax,\n",
    "        first_guess=transform_coeffs,\n",
    "        weights=stacked_weights.weights,\n",
    "        sample_dim=\"sample\",\n",
    "        smooth_coeffs=True,\n",
    "        r_gasparicohn=500,\n",
    "    )\n",
    "\n",
    "transform_coeffs"
   ]
  },
  {
   "cell_type": "code",
   "execution_count": null,
   "id": "3a915c7e",
   "metadata": {},
   "outputs": [],
   "source": [
    "# probability integral transform on non-stacked data for AR(1) process\n",
    "target_expression = Expression(\"norm(loc=0, scale=1)\", \"normal_dist\")\n",
    "\n",
    "pit = ProbabilityIntegralTransform(\n",
    "    distrib_orig=distrib,\n",
    "    distrib_targ=ConditionalDistribution(target_expression),\n",
    ")\n",
    "transf_target = pit.transform(\n",
    "    data=targ_data, target_name=target_name, preds_orig=pred_data, preds_targ=None\n",
    ")"
   ]
  },
  {
   "cell_type": "code",
   "execution_count": null,
   "id": "20026531",
   "metadata": {},
   "outputs": [],
   "source": [
    "# training of auto-regression with spatially correlated innovations\n",
    "local_ar_params = mesmer.stats.fit_auto_regression_scen_ens(\n",
    "    transf_target,\n",
    "    ens_dim=\"member\",\n",
    "    dim=\"time\",\n",
    "    lags=1,\n",
    ")\n",
    "\n",
    "# estimate covariance matrix\n",
    "# prep distance matrix\n",
    "geodist = mesmer.geospatial.geodist_exact(\n",
    "    lon=targ_data[\"historical\"].lon, lat=targ_data[\"historical\"].lat\n",
    ")\n",
    "# prep localizer\n",
    "LOCALISATION_RADII = range(1750, 2001, 250)\n",
    "phi_gc_localizer = mesmer.stats.gaspari_cohn_correlation_matrices(\n",
    "    geodist=geodist, localisation_radii=LOCALISATION_RADII\n",
    ")\n",
    "\n",
    "\n",
    "localized_ecov = mesmer.stats.find_localized_empirical_covariance(\n",
    "    data=stacked_targ[target_name],\n",
    "    weights=stacked_weights.weights,\n",
    "    localizer=phi_gc_localizer,\n",
    "    dim=\"sample\",\n",
    "    k_folds=30,\n",
    ")\n",
    "\n",
    "localized_ecov[\"localized_covariance_adjusted\"] = mesmer.stats.adjust_covariance_ar1(\n",
    "    localized_ecov.localized_covariance, local_ar_params.coeffs\n",
    ")"
   ]
  },
  {
   "cell_type": "code",
   "execution_count": null,
   "id": "0139186d",
   "metadata": {},
   "outputs": [],
   "source": [
    "file_end = f\"{target_name}_{expr_name}_{esm}_{scenario}\"\n",
    "distrib_file = test_path / \"distrib\" / f\"params_transform_distrib_{file_end}.nc\"\n",
    "local_ar_file = test_path / \"local_variability\" / f\"params_local_AR_{file_end}.nc\"\n",
    "localized_ecov_file = (\n",
    "    test_path / \"local_variability\" / f\"params_localized_ecov_{file_end}.nc\"\n",
    ")\n",
    "\n",
    "if save_files:\n",
    "    # save the parameters\n",
    "    transform_coeffs.to_netcdf(distrib_file)\n",
    "    local_ar_params.to_netcdf(local_ar_file)\n",
    "    localized_ecov.to_netcdf(localized_ecov_file)"
   ]
  }
 ],
 "metadata": {
  "kernelspec": {
   "display_name": "Python [conda env:.conda-mesmer_dev]",
   "language": "python",
   "name": "conda-env-.conda-mesmer_dev-py"
  },
  "language_info": {
   "codemirror_mode": {
    "name": "ipython",
    "version": 3
   },
   "file_extension": ".py",
   "mimetype": "text/x-python",
   "name": "python",
   "nbconvert_exporter": "python",
   "pygments_lexer": "ipython3",
   "version": "3.12.11"
  }
 },
 "nbformat": 4,
 "nbformat_minor": 5
}
