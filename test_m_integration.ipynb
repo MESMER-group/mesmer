{
 "cells": [
  {
   "cell_type": "code",
   "execution_count": 6,
   "metadata": {},
   "outputs": [],
   "source": [
    "import importlib\n",
    "\n",
    "import xarray as xr\n",
    "\n",
    "import mesmer\n",
    "\n",
    "\n",
    "def _load_data(*filenames):\n",
    "    # TODO: extract to a 'official' helper function\n",
    "\n",
    "    # NOTE: open_mfdataset is considerably slower...\n",
    "    # ds = xr.open_mfdataset(\n",
    "    #     filenames,\n",
    "    #     combine=\"by_coords\",\n",
    "    #     use_cftime=True,\n",
    "    #     combine_attrs=\"override\",\n",
    "    #     data_vars=\"minimal\",\n",
    "    #     compat=\"override\",\n",
    "    #     coords=\"minimal\",\n",
    "    #     drop_variables=[\"height\", \"file_qf\"],\n",
    "    # ).load()\n",
    "\n",
    "    load_opt = {\"drop_variables\": [\"height\", \"file_qf\"], \"use_cftime\": True}\n",
    "    datasets = [xr.open_dataset(fN, **load_opt) for fN in filenames]\n",
    "\n",
    "    ds = xr.combine_by_coords(\n",
    "        datasets,\n",
    "        combine_attrs=\"override\",\n",
    "        data_vars=\"minimal\",\n",
    "        compat=\"override\",\n",
    "        coords=\"minimal\",\n",
    "    )\n",
    "\n",
    "    return ds"
   ]
  },
  {
   "cell_type": "code",
   "execution_count": 7,
   "metadata": {},
   "outputs": [],
   "source": [
    "# define config values\n",
    "THRESHOLD_LAND = 1 / 3\n",
    "\n",
    "REFERENCE_PERIOD = slice(\"1850\", \"1900\")\n",
    "\n",
    "# LOCALISATION_RADII = list(range(1250, 6251, 250)) + list(range(6500, 8501, 500))\n",
    "# restrict radii for faster tests\n",
    "LOCALISATION_RADII = list(range(5750, 6251, 250)) + list(range(6500, 8001, 500))\n",
    "\n",
    "esm = \"IPSL-CM6A-LR\"\n",
    "scenario = \"ssp585\"\n",
    "\n",
    "# define paths and load data\n",
    "TEST_DATA_PATH = importlib.resources.files(\"mesmer\").parent / \"tests\" / \"test-data\"\n",
    "TEST_PATH = TEST_DATA_PATH / \"output\" / \"tas\" / \"mon\" / \"test-params\"\n",
    "cmip6_data_path = TEST_DATA_PATH / \"calibrate-coarse-grid\" / \"cmip6-ng\"\n",
    "\n",
    "# load annual data\n",
    "path_tas_ann = cmip6_data_path / \"tas\" / \"ann\" / \"g025\"\n",
    "fN_hist_ann = path_tas_ann / f\"tas_ann_{esm}_historical_r1i1p1f1_g025.nc\"\n",
    "fN_proj_ann = path_tas_ann / f\"tas_ann_{esm}_{scenario}_r1i1p1f1_g025.nc\"\n",
    "tas_y = _load_data(fN_hist_ann, fN_proj_ann)\n",
    "\n",
    "# load monthly data\n",
    "path_tas_mon = cmip6_data_path / \"tas\" / \"mon\" / \"g025\"\n",
    "fN_hist_mon = path_tas_mon / f\"tas_mon_{esm}_historical_r1i1p1f1_g025.nc\"\n",
    "fN_proj_mon = path_tas_mon / f\"tas_mon_{esm}_{scenario}_r1i1p1f1_g025.nc\"\n",
    "tas_m = _load_data(fN_hist_mon, fN_proj_mon)\n",
    "\n",
    "# data preprocessing\n",
    "ref_y = tas_y.sel(time=REFERENCE_PERIOD).mean(\"time\", keep_attrs=True)\n",
    "ref_m = tas_m.sel(time=REFERENCE_PERIOD).mean(\"time\", keep_attrs=True)\n",
    "\n",
    "tas_y = tas_y - ref_y\n",
    "tas_m = tas_m - ref_m\n",
    "\n",
    "\n",
    "# create local gridded tas data\n",
    "def mask_and_stack(ds, threshold_land):\n",
    "    ds = mesmer.mask.mask_ocean_fraction(ds, threshold_land)\n",
    "    ds = mesmer.mask.mask_antarctica(ds)\n",
    "    ds = mesmer.grid.stack_lat_lon(ds)\n",
    "    return ds\n",
    "\n",
    "\n",
    "tas_stacked_y = mask_and_stack(tas_y, threshold_land=THRESHOLD_LAND)\n",
    "tas_stacked_m = mask_and_stack(tas_m, threshold_land=THRESHOLD_LAND)"
   ]
  },
  {
   "cell_type": "code",
   "execution_count": 8,
   "metadata": {},
   "outputs": [],
   "source": [
    "# fit harmonic model\n",
    "harmonic_model_fit = mesmer.stats.fit_harmonic_model(\n",
    "    tas_stacked_y.tas, tas_stacked_m.tas\n",
    ")"
   ]
  },
  {
   "cell_type": "code",
   "execution_count": 11,
   "metadata": {},
   "outputs": [],
   "source": [
    "# train power transformer\n",
    "resids_after_hm = tas_stacked_m - harmonic_model_fit.predictions\n",
    "pt_coefficients = mesmer.stats.fit_yeo_johnson_transform(\n",
    "    resids_after_hm.tas, tas_stacked_y.tas\n",
    ")"
   ]
  },
  {
   "cell_type": "code",
   "execution_count": 12,
   "metadata": {},
   "outputs": [],
   "source": [
    "transformed_hm_resids = mesmer.stats.yeo_johnson_transform(\n",
    "    resids_after_hm.tas, pt_coefficients.coeffs, tas_stacked_y.tas\n",
    ")"
   ]
  },
  {
   "cell_type": "code",
   "execution_count": 13,
   "metadata": {},
   "outputs": [],
   "source": [
    "# fit cyclo-stationary AR(1) process\n",
    "AR1_fit = mesmer.stats.fit_auto_regression_monthly(\n",
    "    transformed_hm_resids.transformed, time_dim=\"time\"\n",
    ")\n",
    "\n",
    "# work out covariance matrix"
   ]
  },
  {
   "cell_type": "code",
   "execution_count": 14,
   "metadata": {},
   "outputs": [],
   "source": [
    "geodist = mesmer.geospatial.geodist_exact(tas_stacked_y.lon, tas_stacked_y.lat)\n",
    "\n",
    "phi_gc_localizer = mesmer.stats.gaspari_cohn_correlation_matrices(\n",
    "    geodist, localisation_radii=LOCALISATION_RADII\n",
    ")\n",
    "\n",
    "weights = xr.ones_like(AR1_fit.residuals.isel(gridcell=0))\n",
    "weights.name = \"weights\""
   ]
  },
  {
   "cell_type": "code",
   "execution_count": 15,
   "metadata": {},
   "outputs": [],
   "source": [
    "localized_ecov = mesmer.stats.find_localized_empirical_covariance_monthly(\n",
    "    AR1_fit.residuals, weights, phi_gc_localizer, \"time\", 30\n",
    ")\n",
    "\n",
    "# we need to get the original time coordinate to be able to validate our results\n",
    "m_time = tas_stacked_m.time.rename(\"monthly_time\")"
   ]
  },
  {
   "cell_type": "code",
   "execution_count": null,
   "metadata": {},
   "outputs": [],
   "source": [
    "# save params\n",
    "\n",
    "\n",
    "# testing\n",
    "\n",
    "# load expected values\n",
    "expected_hm_params = xr.open_dataset(\n",
    "    TEST_PATH / \"harmonic_model\" / f\"params_harmonic_model_tas_{esm}_{scenario}.nc\",\n",
    "    use_cftime=True,\n",
    ")\n",
    "expected_pt_params = xr.open_dataset(\n",
    "    TEST_PATH\n",
    "    / \"power_transformer\"\n",
    "    / f\"params_power_transformer_tas_{esm}_{scenario}.nc\",\n",
    "    use_cftime=True,\n",
    ")\n",
    "expected_AR1_params = xr.open_dataset(\n",
    "    TEST_PATH / \"local_variability\" / f\"params_AR1_tas_{esm}_{scenario}.nc\",\n",
    "    use_cftime=True,\n",
    ")\n",
    "expected_localized_ecov = xr.open_dataset(\n",
    "    TEST_PATH / \"local_variability\" / f\"params_localized_ecov_tas_{esm}_{scenario}.nc\",\n",
    "    use_cftime=True,\n",
    ")\n",
    "expected_m_time = xr.open_dataset(\n",
    "    TEST_PATH / \"time\" / f\"params_monthly_time_tas_{esm}_{scenario}.nc\",\n",
    "    use_cftime=True,\n",
    ")\n",
    "\n",
    "# the following parameters should be exactly the same\n",
    "exact_exp_params = xr.merge(\n",
    "    [\n",
    "        expected_hm_params.selected_order,\n",
    "        expected_localized_ecov.localization_radius,\n",
    "        expected_m_time.monthly_time,\n",
    "    ]\n",
    ")\n",
    "exact_cal_params = xr.merge(\n",
    "    [\n",
    "        harmonic_model_fit.selected_order,\n",
    "        localized_ecov.localization_radius,\n",
    "        m_time,\n",
    "    ]\n",
    ")\n",
    "\n",
    "xr.testing.assert_equal(exact_exp_params, exact_cal_params)\n",
    "\n",
    "# compare the rest\n",
    "# using numpy because it outputs the differences and how many values are off\n",
    "import numpy as np\n",
    "\n",
    "# the tols are set to the best we can do\n",
    "# NOTE: it is always rather few values that are off\n",
    "np.testing.assert_allclose(\n",
    "    expected_hm_params.coeffs,\n",
    "    harmonic_model_fit.coeffs,\n",
    "    atol=2e-5,\n",
    ")\n",
    "# NOTE: would have to be atol is 1e12 here - not doing that\n",
    "np.testing.assert_allclose(expected_pt_params.coeffs, pt_coefficients.coeffs, atol=1e-4)\n",
    "np.testing.assert_allclose(\n",
    "    expected_AR1_params.slope, AR1_fit.slope, atol=1e-5, rtol=1e-4\n",
    ")\n",
    "np.testing.assert_allclose(\n",
    "    expected_AR1_params.intercept,\n",
    "    AR1_fit.intercept,\n",
    "    atol=2e-5,\n",
    ")\n",
    "np.testing.assert_allclose(\n",
    "    localized_ecov.localized_covariance,\n",
    "    localized_ecov.localized_covariance,\n",
    ")"
   ]
  },
  {
   "cell_type": "code",
   "execution_count": 32,
   "metadata": {},
   "outputs": [],
   "source": [
    "np.testing.assert_allclose(\n",
    "    expected_AR1_params.slope,\n",
    "    AR1_fit.slope,\n",
    "    atol=1e-5,\n",
    ")"
   ]
  },
  {
   "cell_type": "code",
   "execution_count": 29,
   "metadata": {},
   "outputs": [],
   "source": [
    "# NOTE: would have to be atol is 1e12 here - not doing that\n",
    "np.testing.assert_allclose(expected_pt_params.coeffs, pt_coefficients.coeffs, atol=1e-4)"
   ]
  },
  {
   "cell_type": "code",
   "execution_count": 26,
   "metadata": {},
   "outputs": [],
   "source": [
    "np.testing.assert_allclose(\n",
    "    expected_AR1_params.intercept,\n",
    "    AR1_fit.intercept,\n",
    "    atol=2e-5,\n",
    "    # rtol=1e-2 / 3,\n",
    ")"
   ]
  },
  {
   "cell_type": "code",
   "execution_count": 28,
   "metadata": {},
   "outputs": [],
   "source": [
    "np.testing.assert_allclose(\n",
    "    localized_ecov.localized_covariance,\n",
    "    localized_ecov.localized_covariance,\n",
    "    # atol=1e-4,\n",
    "    # rtol=1e-2,\n",
    ")"
   ]
  },
  {
   "cell_type": "code",
   "execution_count": 33,
   "metadata": {},
   "outputs": [
    {
     "ename": "AssertionError",
     "evalue": "\nNot equal to tolerance rtol=1e-07, atol=0\n\nMismatched elements: 29 / 2832 (1.02%)\nMax absolute difference among violations: 7.11580971e-05\nMax relative difference among violations: 0.00762713\n ACTUAL: array([[[ 1.339342e+00, -8.537281e-02],\n        [ 1.575343e+00, -1.000000e-01],\n        [ 6.099215e-01,  1.000000e-01],...\n DESIRED: array([[[ 1.339342e+00, -8.537281e-02],\n        [ 1.575343e+00, -1.000000e-01],\n        [ 6.099215e-01,  1.000000e-01],...",
     "output_type": "error",
     "traceback": [
      "\u001b[0;31m---------------------------------------------------------------------------\u001b[0m",
      "\u001b[0;31mAssertionError\u001b[0m                            Traceback (most recent call last)",
      "Cell \u001b[0;32mIn[33], line 1\u001b[0m\n\u001b[0;32m----> 1\u001b[0m \u001b[43mnp\u001b[49m\u001b[38;5;241;43m.\u001b[39;49m\u001b[43mtesting\u001b[49m\u001b[38;5;241;43m.\u001b[39;49m\u001b[43massert_allclose\u001b[49m\u001b[43m(\u001b[49m\n\u001b[1;32m      2\u001b[0m \u001b[43m    \u001b[49m\u001b[43mexpected_pt_params\u001b[49m\u001b[38;5;241;43m.\u001b[39;49m\u001b[43mcoeffs\u001b[49m\u001b[43m,\u001b[49m\u001b[43m \u001b[49m\u001b[43mpt_coefficients\u001b[49m\u001b[38;5;241;43m.\u001b[39;49m\u001b[43mcoeffs\u001b[49m\u001b[43m,\u001b[49m\u001b[43m \u001b[49m\u001b[38;5;66;43;03m# atol=1e-4\u001b[39;49;00m\n\u001b[1;32m      3\u001b[0m \u001b[43m)\u001b[49m\n",
      "    \u001b[0;31m[... skipping hidden 1 frame]\u001b[0m\n",
      "File \u001b[0;32m~/.conda/envs/mesmer_dev/lib/python3.12/contextlib.py:81\u001b[0m, in \u001b[0;36mContextDecorator.__call__.<locals>.inner\u001b[0;34m(*args, **kwds)\u001b[0m\n\u001b[1;32m     78\u001b[0m \u001b[38;5;129m@wraps\u001b[39m(func)\n\u001b[1;32m     79\u001b[0m \u001b[38;5;28;01mdef\u001b[39;00m \u001b[38;5;21minner\u001b[39m(\u001b[38;5;241m*\u001b[39margs, \u001b[38;5;241m*\u001b[39m\u001b[38;5;241m*\u001b[39mkwds):\n\u001b[1;32m     80\u001b[0m     \u001b[38;5;28;01mwith\u001b[39;00m \u001b[38;5;28mself\u001b[39m\u001b[38;5;241m.\u001b[39m_recreate_cm():\n\u001b[0;32m---> 81\u001b[0m         \u001b[38;5;28;01mreturn\u001b[39;00m \u001b[43mfunc\u001b[49m\u001b[43m(\u001b[49m\u001b[38;5;241;43m*\u001b[39;49m\u001b[43margs\u001b[49m\u001b[43m,\u001b[49m\u001b[43m \u001b[49m\u001b[38;5;241;43m*\u001b[39;49m\u001b[38;5;241;43m*\u001b[39;49m\u001b[43mkwds\u001b[49m\u001b[43m)\u001b[49m\n",
      "File \u001b[0;32m~/.conda/envs/mesmer_dev/lib/python3.12/site-packages/numpy/testing/_private/utils.py:889\u001b[0m, in \u001b[0;36massert_array_compare\u001b[0;34m(comparison, x, y, err_msg, verbose, header, precision, equal_nan, equal_inf, strict, names)\u001b[0m\n\u001b[1;32m    884\u001b[0m         err_msg \u001b[38;5;241m+\u001b[39m\u001b[38;5;241m=\u001b[39m \u001b[38;5;124m'\u001b[39m\u001b[38;5;130;01m\\n\u001b[39;00m\u001b[38;5;124m'\u001b[39m \u001b[38;5;241m+\u001b[39m \u001b[38;5;124m'\u001b[39m\u001b[38;5;130;01m\\n\u001b[39;00m\u001b[38;5;124m'\u001b[39m\u001b[38;5;241m.\u001b[39mjoin(remarks)\n\u001b[1;32m    885\u001b[0m         msg \u001b[38;5;241m=\u001b[39m build_err_msg([ox, oy], err_msg,\n\u001b[1;32m    886\u001b[0m                             verbose\u001b[38;5;241m=\u001b[39mverbose, header\u001b[38;5;241m=\u001b[39mheader,\n\u001b[1;32m    887\u001b[0m                             names\u001b[38;5;241m=\u001b[39mnames,\n\u001b[1;32m    888\u001b[0m                             precision\u001b[38;5;241m=\u001b[39mprecision)\n\u001b[0;32m--> 889\u001b[0m         \u001b[38;5;28;01mraise\u001b[39;00m \u001b[38;5;167;01mAssertionError\u001b[39;00m(msg)\n\u001b[1;32m    890\u001b[0m \u001b[38;5;28;01mexcept\u001b[39;00m \u001b[38;5;167;01mValueError\u001b[39;00m:\n\u001b[1;32m    891\u001b[0m     \u001b[38;5;28;01mimport\u001b[39;00m \u001b[38;5;21;01mtraceback\u001b[39;00m\n",
      "\u001b[0;31mAssertionError\u001b[0m: \nNot equal to tolerance rtol=1e-07, atol=0\n\nMismatched elements: 29 / 2832 (1.02%)\nMax absolute difference among violations: 7.11580971e-05\nMax relative difference among violations: 0.00762713\n ACTUAL: array([[[ 1.339342e+00, -8.537281e-02],\n        [ 1.575343e+00, -1.000000e-01],\n        [ 6.099215e-01,  1.000000e-01],...\n DESIRED: array([[[ 1.339342e+00, -8.537281e-02],\n        [ 1.575343e+00, -1.000000e-01],\n        [ 6.099215e-01,  1.000000e-01],..."
     ]
    }
   ],
   "source": [
    "np.testing.assert_allclose(\n",
    "    expected_pt_params.coeffs,\n",
    "    pt_coefficients.coeffs,  # atol=1e-4\n",
    ")"
   ]
  },
  {
   "cell_type": "code",
   "execution_count": null,
   "metadata": {},
   "outputs": [],
   "source": []
  }
 ],
 "metadata": {
  "kernelspec": {
   "display_name": "mesmer_dev",
   "language": "python",
   "name": "python3"
  },
  "language_info": {
   "codemirror_mode": {
    "name": "ipython",
    "version": 3
   },
   "file_extension": ".py",
   "mimetype": "text/x-python",
   "name": "python",
   "nbconvert_exporter": "python",
   "pygments_lexer": "ipython3",
   "version": "3.12.5"
  }
 },
 "nbformat": 4,
 "nbformat_minor": 2
}
