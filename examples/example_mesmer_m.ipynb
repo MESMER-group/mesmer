{
 "cells": [
  {
   "cell_type": "markdown",
   "metadata": {},
   "source": [
    "# Example execution of MESMER-M workflow\n",
    "Training and emulation of monthly local temperature from yearly local temperature."
   ]
  },
  {
   "cell_type": "markdown",
   "metadata": {},
   "source": [
    "# Setup"
   ]
  },
  {
   "cell_type": "code",
   "execution_count": 18,
   "metadata": {},
   "outputs": [],
   "source": [
    "import datetime as dt\n",
    "import importlib\n",
    "\n",
    "import xarray as xr\n",
    "\n",
    "import mesmer"
   ]
  },
  {
   "cell_type": "code",
   "execution_count": 19,
   "metadata": {},
   "outputs": [],
   "source": [
    "# some parameters\n",
    "model = \"IPSL-CM6A-LR\"\n",
    "TEST_DATA_PATH = importlib.resources.files(\"mesmer\").parent / \"tests\" / \"test-data\"\n",
    "cmip6_data_path = TEST_DATA_PATH / \"calibrate-coarse-grid\" / \"cmip6-ng\"\n",
    "\n",
    "path_tas_ann = cmip6_data_path / \"tas\" / \"ann\" / \"g025\"\n",
    "fN_hist_ann = path_tas_ann / f\"tas_ann_{model}_historical_r1i1p1f1_g025.nc\"\n",
    "fN_proj_ann = path_tas_ann / f\"tas_ann_{model}_ssp585_r1i1p1f1_g025.nc\"\n",
    "\n",
    "path_tas_mon = cmip6_data_path / \"tas\" / \"mon\" / \"g025\"\n",
    "fN_hist_mon = path_tas_mon / f\"tas_mon_{model}_historical_r1i1p1f1_g025.nc\"\n",
    "fN_proj_mon = path_tas_mon / f\"tas_mon_{model}_ssp585_r1i1p1f1_g025.nc\"\n",
    "\n",
    "LOCALISATION_RADII = list(range(1250, 6251, 250)) + list(range(6500, 8501, 500))\n",
    "THRESHOLD_LAND = 1 / 3\n",
    "ref_period = slice(\"1850\", \"1900\")"
   ]
  },
  {
   "cell_type": "markdown",
   "metadata": {},
   "source": [
    "## Load Data for training the emulator"
   ]
  },
  {
   "cell_type": "code",
   "execution_count": 20,
   "metadata": {},
   "outputs": [],
   "source": [
    "# yearly temperature\n",
    "tas_y = xr.open_mfdataset(\n",
    "    [fN_hist_ann, fN_proj_ann],\n",
    "    combine=\"by_coords\",\n",
    "    use_cftime=True,\n",
    "    combine_attrs=\"override\",\n",
    "    data_vars=\"minimal\",\n",
    "    compat=\"override\",\n",
    "    coords=\"minimal\",\n",
    "    drop_variables=[\"height\", \"file_qf\"],\n",
    ").load()\n",
    "\n",
    "# monthly temperature    \n",
    "tas_m = xr.open_mfdataset(\n",
    "    [fN_hist_mon, fN_proj_mon],\n",
    "    combine=\"by_coords\",\n",
    "    use_cftime=True,\n",
    "    combine_attrs=\"override\",\n",
    "    data_vars=\"minimal\",\n",
    "    compat=\"override\",\n",
    "    coords=\"minimal\",\n",
    "    drop_variables=[\"height\", \"file_qf\"],\n",
    ").load()"
   ]
  },
  {
   "cell_type": "markdown",
   "metadata": {},
   "source": [
    "## Preprocessing"
   ]
  },
  {
   "cell_type": "code",
   "execution_count": 21,
   "metadata": {},
   "outputs": [],
   "source": [
    "ref_y = tas_y.sel(time=ref_period).mean(\"time\", keep_attrs=True)\n",
    "ref_m = tas_m.sel(time=ref_period).mean(\"time\", keep_attrs=True)\n",
    "\n",
    "tas_y = tas_y - ref_y\n",
    "tas_m = tas_m - ref_m"
   ]
  },
  {
   "cell_type": "code",
   "execution_count": 22,
   "metadata": {},
   "outputs": [],
   "source": [
    "def mask_and_stack(ds, threshold_land):\n",
    "    ds = mesmer.mask.mask_ocean_fraction(ds, threshold_land)\n",
    "    ds = mesmer.mask.mask_antarctica(ds)\n",
    "    ds = mesmer.grid.stack_lat_lon(ds)\n",
    "    return ds"
   ]
  },
  {
   "cell_type": "code",
   "execution_count": 23,
   "metadata": {},
   "outputs": [],
   "source": [
    "tas_stacked_y = mask_and_stack(tas_y, threshold_land=THRESHOLD_LAND)\n",
    "tas_stacked_m = mask_and_stack(tas_m, threshold_land=THRESHOLD_LAND)"
   ]
  },
  {
   "cell_type": "markdown",
   "metadata": {},
   "source": [
    "## Fit the hamronic model"
   ]
  },
  {
   "cell_type": "code",
   "execution_count": 24,
   "metadata": {},
   "outputs": [],
   "source": [
    "harmonic_model_fit = mesmer.stats.fit_harmonic_model(\n",
    "    tas_stacked_y.tas, tas_stacked_m.tas\n",
    ")"
   ]
  },
  {
   "cell_type": "markdown",
   "metadata": {},
   "source": [
    "## Train the power transformer"
   ]
  },
  {
   "cell_type": "code",
   "execution_count": 25,
   "metadata": {},
   "outputs": [],
   "source": [
    "resids_after_hm = tas_stacked_m - harmonic_model_fit.predictions\n",
    "pt_coefficients = mesmer.stats.fit_yeo_johnson_transform(\n",
    "    resids_after_hm.tas, tas_stacked_y.tas\n",
    ")\n",
    "transformed_hm_resids = mesmer.stats.yeo_johnson_transform(\n",
    "    resids_after_hm.tas, pt_coefficients, tas_stacked_y.tas\n",
    ")"
   ]
  },
  {
   "cell_type": "markdown",
   "metadata": {},
   "source": [
    "## Fit cyclo-stationary AR(1) process"
   ]
  },
  {
   "cell_type": "code",
   "execution_count": 26,
   "metadata": {},
   "outputs": [],
   "source": [
    "# fit AR(1) parameters\n",
    "AR1_fit = mesmer.stats.fit_auto_regression_monthly(\n",
    "    transformed_hm_resids.transformed, time_dim=\"time\"\n",
    ")"
   ]
  },
  {
   "cell_type": "code",
   "execution_count": 27,
   "metadata": {},
   "outputs": [],
   "source": [
    "# work out covariance matrix\n",
    "geodist = mesmer.geospatial.geodist_exact(tas_stacked_y.lon, tas_stacked_y.lat)\n",
    "\n",
    "phi_gc_localizer = mesmer.stats.gaspari_cohn_correlation_matrices(\n",
    "    geodist, localisation_radii=LOCALISATION_RADII\n",
    ")\n",
    "\n",
    "weights = xr.ones_like(AR1_fit.residuals.isel(gridcell=0))\n",
    "weights.name = \"weights\"\n",
    "\n",
    "localized_ecov = mesmer.stats.find_localized_empirical_covariance_monthly(\n",
    "    AR1_fit.residuals, weights, phi_gc_localizer, \"time\", 30\n",
    ")"
   ]
  },
  {
   "cell_type": "code",
   "execution_count": 28,
   "metadata": {},
   "outputs": [],
   "source": [
    "# TODO\n",
    "# save the parameters to a file"
   ]
  },
  {
   "cell_type": "markdown",
   "metadata": {},
   "source": [
    "## Make emulations"
   ]
  },
  {
   "cell_type": "code",
   "execution_count": 29,
   "metadata": {},
   "outputs": [],
   "source": [
    "# parameters\n",
    "nr_emus = 10\n",
    "buffer = 20\n",
    "seed = 0\n",
    "# ref_period = slice(\"1850\", \"1900\")"
   ]
  },
  {
   "cell_type": "code",
   "execution_count": 30,
   "metadata": {},
   "outputs": [],
   "source": [
    "# TODO \n",
    "# load the parameters from a file\n",
    "# here we use the data from above"
   ]
  },
  {
   "cell_type": "code",
   "execution_count": 31,
   "metadata": {},
   "outputs": [],
   "source": [
    "# TODO \n",
    "# load yearly temperature\n",
    "# here we are using the original yearly temperature for demonstration"
   ]
  },
  {
   "cell_type": "code",
   "execution_count": 32,
   "metadata": {},
   "outputs": [],
   "source": [
    "# preprocess tas\n",
    "# ref = tas_y.sel(time=ref_period).mean(\"time\", keep_attrs=True)\n",
    "# tas_y = tas_y - ref\n",
    "# tas_stacked_y = mask_and_stack(tas_y, threshold_land=THRESHOLD_LAND)"
   ]
  },
  {
   "cell_type": "code",
   "execution_count": 33,
   "metadata": {},
   "outputs": [],
   "source": [
    "# keep the original grid for transforming back later\n",
    "grid_orig = ref_y[[\"lat\", \"lon\"]]"
   ]
  },
  {
   "cell_type": "code",
   "execution_count": 34,
   "metadata": {},
   "outputs": [],
   "source": [
    "# we need to get the original time coordinate to be able to validate our results\n",
    "m_time = tas_stacked_m.time"
   ]
  },
  {
   "cell_type": "code",
   "execution_count": 35,
   "metadata": {},
   "outputs": [],
   "source": [
    "# generate monthly data with harmonic model\n",
    "monthly_harmonic_emu = mesmer.stats.predict_harmonic_model(\n",
    "    tas_stacked_y.tas, harmonic_model_fit.coeffs, m_time\n",
    ")\n",
    "\n",
    "# generate variability around 0 with AR(1) model\n",
    "local_variability_transformed = mesmer.stats.draw_auto_regression_monthly(\n",
    "    AR1_fit,\n",
    "    localized_ecov.localized_covariance,\n",
    "    time=m_time,\n",
    "    n_realisations=nr_emus,\n",
    "    seed=seed,\n",
    "    buffer=buffer,\n",
    ")\n",
    "\n",
    "# invert the power transformation\n",
    "local_variability_inverted = mesmer.stats.inverse_yeo_johnson_transform(\n",
    "    local_variability_transformed, pt_coefficients, tas_stacked_y.tas\n",
    ")\n",
    "\n",
    "# add the local variability to the monthly harmonic\n",
    "emulations = monthly_harmonic_emu + local_variability_inverted.inverted"
   ]
  },
  {
   "cell_type": "code",
   "execution_count": 36,
   "metadata": {},
   "outputs": [],
   "source": [
    "# unstack to original grid\n",
    "emulations_unstacked = mesmer.grid.unstack_lat_lon_and_align(emulations, grid_orig)"
   ]
  },
  {
   "cell_type": "code",
   "execution_count": 37,
   "metadata": {},
   "outputs": [],
   "source": [
    "# TODO\n",
    "# save"
   ]
  }
 ],
 "metadata": {
  "kernelspec": {
   "display_name": "mesmer_m_dev",
   "language": "python",
   "name": "python3"
  },
  "language_info": {
   "codemirror_mode": {
    "name": "ipython",
    "version": 3
   },
   "file_extension": ".py",
   "mimetype": "text/x-python",
   "name": "python",
   "nbconvert_exporter": "python",
   "pygments_lexer": "ipython3",
   "version": "3.12.2"
  }
 },
 "nbformat": 4,
 "nbformat_minor": 2
}
