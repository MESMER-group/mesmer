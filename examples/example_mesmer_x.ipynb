{
 "cells": [
  {
   "cell_type": "code",
   "execution_count": null,
   "id": "bbef721e",
   "metadata": {},
   "outputs": [],
   "source": [
    "%load_ext autoreload\n",
    "%autoreload 2\n",
    "%matplotlib inline"
   ]
  },
  {
   "cell_type": "code",
   "execution_count": null,
   "id": "90fec2f2",
   "metadata": {},
   "outputs": [],
   "source": [
    "import pathlib\n",
    "\n",
    "import pytest\n",
    "import xarray as xr\n",
    "\n",
    "import mesmer\n",
    "import mesmer.mesmer_x\n",
    "\n",
    "# TODO: extend to more scenarios and members\n",
    "# TODO: extend predictors"
   ]
  },
  {
   "cell_type": "code",
   "execution_count": null,
   "id": "18fcb0f2",
   "metadata": {},
   "outputs": [],
   "source": [
    "scenario = \"ssp585\"\n",
    "target_name = \"tasmax\"\n",
    "option_2ndfit = False\n",
    "save_files = False"
   ]
  },
  {
   "cell_type": "code",
   "execution_count": null,
   "id": "c99581a9",
   "metadata": {},
   "outputs": [],
   "source": [
    "# set some configuration parameters\n",
    "THRESHOLD_LAND = 1 / 3\n",
    "esm = \"IPSL-CM6A-LR\"\n",
    "\n",
    "# TODO: replace with filefinder later\n",
    "# load data\n",
    "TEST_DATA_PATH = pathlib.Path(\"/Users/vbauer/Developer/mesmer/tests/test-data\")\n",
    "TEST_PATH = TEST_DATA_PATH / \"output\" / target_name / \"one_scen_one_ens\" / \"test-params\"\n",
    "cmip6_data_path = mesmer.example_data.cmip6_ng_path()"
   ]
  },
  {
   "cell_type": "code",
   "execution_count": null,
   "id": "abc75b34",
   "metadata": {},
   "outputs": [],
   "source": [
    "# load predictor data\n",
    "path_tas = cmip6_data_path / \"tas\" / \"ann\" / \"g025\"\n",
    "\n",
    "fN_hist = path_tas / f\"tas_ann_{esm}_historical_r1i1p1f1_g025.nc\"\n",
    "fN_ssp585 = path_tas / f\"tas_ann_{esm}_{scenario}_r1i1p1f1_g025.nc\"\n",
    "\n",
    "time_coder = xr.coders.CFDatetimeCoder(use_cftime=True)\n",
    "tas_hist = xr.open_dataset(fN_hist, decode_times=time_coder).drop_vars(\n",
    "    [\"height\", \"file_qf\", \"time_bnds\"]\n",
    ")\n",
    "tas_ssp585 = xr.open_dataset(fN_ssp585, decode_times=time_coder).drop_vars(\n",
    "    [\"height\", \"file_qf\", \"time_bnds\"]\n",
    ")\n",
    "\n",
    "tas = xr.DataTree.from_dict(\n",
    "    {\n",
    "        \"historical\": tas_hist,\n",
    "        \"ssp585\": tas_ssp585,\n",
    "    }\n",
    ")"
   ]
  },
  {
   "cell_type": "code",
   "execution_count": null,
   "id": "e1d3776c",
   "metadata": {},
   "outputs": [],
   "source": [
    "# make global mean\n",
    "# global_mean_dt = map_over_subtree(mesmer.weighted.global_mean)\n",
    "tas_glob_mean = mesmer.weighted.global_mean(tas)\n",
    "\n",
    "# load target data\n",
    "path_target = cmip6_data_path / target_name / \"ann\" / \"g025\"\n",
    "\n",
    "fN_hist = path_target / f\"{target_name}_ann_{esm}_historical_r1i1p1f1_g025.nc\"\n",
    "fN_ssp585 = path_target / f\"{target_name}_ann_{esm}_{scenario}_r1i1p1f1_g025.nc\"\n",
    "\n",
    "time_coder = xr.coders.CFDatetimeCoder(use_cftime=True)\n",
    "targ_hist = xr.open_dataset(fN_hist, decode_times=time_coder)\n",
    "targ_ssp585 = xr.open_dataset(fN_ssp585, decode_times=time_coder)\n",
    "# make sure times align\n",
    "targ_hist[\"time\"] = tas_hist[\"time\"]\n",
    "targ_ssp585[\"time\"] = tas_ssp585[\"time\"]\n",
    "\n",
    "target_data = xr.DataTree.from_dict(\n",
    "    {\n",
    "        \"historical\": targ_hist,\n",
    "        \"ssp585\": targ_ssp585,\n",
    "    }\n",
    ")"
   ]
  },
  {
   "cell_type": "code",
   "execution_count": null,
   "id": "caea1039",
   "metadata": {},
   "outputs": [],
   "source": [
    "# stack target data\n",
    "def mask_and_stack(ds, threshold_land):\n",
    "    ds = mesmer.mask.mask_ocean_fraction(ds, threshold_land)\n",
    "    ds = mesmer.mask.mask_antarctica(ds)\n",
    "    ds = mesmer.grid.stack_lat_lon(ds, stack_dim=\"gridpoint\")\n",
    "    return ds\n",
    "\n",
    "\n",
    "# mask_and_stack_dt = map_over_subtree(mask_and_stack)\n",
    "target_data = mask_and_stack(target_data, threshold_land=THRESHOLD_LAND)\n",
    "pred_data = xr.DataTree.from_dict({\"tas\": tas_glob_mean})\n",
    "\n",
    "# stack datasets\n",
    "# weights\n",
    "weights = mesmer.mesmer_x.get_weights_density(\n",
    "    pred_data=pred_data,\n",
    "    predictor=\"tas\",\n",
    "    targ_data=target_data,\n",
    "    target=target_name,\n",
    "    dims=(\"member\", \"time\"),\n",
    ")\n",
    "\n",
    "# stacking\n",
    "stacked_pred, stacked_targ, stacked_weights = (\n",
    "    mesmer.core.datatree.broadcast_and_stack_scenarios(\n",
    "        predictors=pred_data,\n",
    "        target=target_data,\n",
    "        weights=weights,\n",
    "        member_dim=None,\n",
    "    )\n",
    ")"
   ]
  },
  {
   "cell_type": "code",
   "execution_count": null,
   "id": "2e19e5fb",
   "metadata": {},
   "outputs": [],
   "source": [
    "# declaring analytical form of the conditional distribution\n",
    "expr = \"norm(loc=c1 + c2 * __tas__, scale=c3)\"\n",
    "expr_name = \"expr1\"\n",
    "expression_fit = mesmer.mesmer_x.Expression(\n",
    "    expr, expr_name, boundaries_params={}, boundaries_coeffs={}\n",
    ")\n",
    "expression_fit.boundaries_params"
   ]
  },
  {
   "cell_type": "code",
   "execution_count": null,
   "id": "9af85a7c",
   "metadata": {},
   "outputs": [],
   "source": [
    "# preparing optimizers that will be used for first guess and training\n",
    "myoptions = mesmer.mesmer_x.ConditionalDistributionOptions(\n",
    "    options_optim=None,\n",
    "    options_solver=None,\n",
    ")\n",
    "\n",
    "distrib = mesmer.mesmer_x.ConditionalDistribution(\n",
    "    expression=expression_fit, options=myoptions\n",
    ")"
   ]
  },
  {
   "cell_type": "code",
   "execution_count": null,
   "id": "2474e6af",
   "metadata": {},
   "outputs": [],
   "source": [
    "# find first guess\n",
    "coeffs_fg = mesmer.mesmer_x.find_first_guess(\n",
    "    conditional_distrib=distrib,\n",
    "    predictors=stacked_pred,\n",
    "    target=stacked_targ.tasmax,\n",
    "    weights=stacked_weights.weight,\n",
    ")\n",
    "coeffs_fg"
   ]
  },
  {
   "cell_type": "code",
   "execution_count": null,
   "id": "cc1fc339",
   "metadata": {},
   "outputs": [],
   "source": [
    "# training the conditional distribution\n",
    "# first round\n",
    "distrib.fit(\n",
    "    predictors=stacked_pred,\n",
    "    target=stacked_targ.tasmax,\n",
    "    weights=stacked_weights.weight,\n",
    "    first_guess=coeffs_fg,\n",
    ")\n",
    "transform_coeffs = distrib.coefficients"
   ]
  },
  {
   "cell_type": "code",
   "execution_count": null,
   "id": "4f96da76",
   "metadata": {},
   "outputs": [],
   "source": [
    "# second round if necessary\n",
    "if option_2ndfit:\n",
    "    transform_coeffs = distrib.fit(\n",
    "        predictors=stacked_pred,\n",
    "        target=stacked_targ.tasmax,\n",
    "        first_guess=transform_coeffs,\n",
    "        weights=stacked_weights.weight,\n",
    "        sample_dim=\"sample\",\n",
    "        option_smooth_coeffs=True,\n",
    "        r_gasparicohn=500,\n",
    "    )\n",
    "\n",
    "transform_coeffs"
   ]
  },
  {
   "cell_type": "code",
   "execution_count": null,
   "id": "3a915c7e",
   "metadata": {},
   "outputs": [],
   "source": [
    "# probability integral transform on non-stacked data for AR(1) process\n",
    "from mesmer.mesmer_x import (\n",
    "    ConditionalDistribution,\n",
    "    ConditionalDistributionOptions,\n",
    "    Expression,\n",
    ")\n",
    "\n",
    "target_expression = Expression(\"norm(loc=0, scale=1)\", \"normal_dist\")\n",
    "\n",
    "pit = mesmer.mesmer_x.ProbabilityIntegralTransform(\n",
    "    distrib_orig=distrib,\n",
    "    distrib_targ=ConditionalDistribution(\n",
    "        target_expression, ConditionalDistributionOptions()\n",
    "    ),\n",
    ")\n",
    "transf_target = pit.transform(\n",
    "    data=target_data, target_name=target_name, preds_orig=pred_data, preds_targ=None\n",
    ")"
   ]
  },
  {
   "cell_type": "code",
   "execution_count": null,
   "id": "20026531",
   "metadata": {},
   "outputs": [],
   "source": [
    "# training of auto-regression with spatially correlated innovations\n",
    "local_ar_params = mesmer.stats.fit_auto_regression_scen_ens(\n",
    "    transf_target,\n",
    "    ens_dim=\"member\",\n",
    "    dim=\"time\",\n",
    "    lags=1,\n",
    ")\n",
    "\n",
    "# estimate covariance matrix\n",
    "# prep distance matrix\n",
    "geodist = mesmer.core.geospatial.geodist_exact(\n",
    "    lon=target_data[\"historical\"].lon, lat=target_data[\"historical\"].lat\n",
    ")\n",
    "# prep localizer\n",
    "LOCALISATION_RADII = range(1750, 2001, 250)\n",
    "phi_gc_localizer = mesmer.stats.gaspari_cohn_correlation_matrices(\n",
    "    geodist=geodist, localisation_radii=LOCALISATION_RADII\n",
    ")\n",
    "\n",
    "\n",
    "localized_ecov = mesmer.stats.find_localized_empirical_covariance(\n",
    "    data=stacked_targ[target_name],\n",
    "    weights=stacked_weights.weight,\n",
    "    localizer=phi_gc_localizer,\n",
    "    dim=\"sample\",\n",
    "    k_folds=30,\n",
    ")\n",
    "\n",
    "localized_ecov[\"localized_covariance_adjusted\"] = mesmer.stats.adjust_covariance_ar1(\n",
    "    localized_ecov.localized_covariance, local_ar_params.coeffs\n",
    ")"
   ]
  },
  {
   "cell_type": "code",
   "execution_count": null,
   "id": "0139186d",
   "metadata": {},
   "outputs": [],
   "source": [
    "file_end = f\"{target_name}_{expr_name}_{esm}_{scenario}\"\n",
    "distrib_file = TEST_PATH / \"distrib\" / f\"params_transform_distrib_{file_end}.nc\"\n",
    "local_ar_file = TEST_PATH / \"local_variability\" / f\"params_local_AR_{file_end}.nc\"\n",
    "localized_ecov_file = (\n",
    "    TEST_PATH / \"local_variability\" / f\"params_localized_ecov_{file_end}.nc\"\n",
    ")\n",
    "\n",
    "if save_files:\n",
    "    # save the parameters\n",
    "    transform_coeffs.to_netcdf(distrib_file)\n",
    "    local_ar_params.to_netcdf(local_ar_file)\n",
    "    localized_ecov.to_netcdf(localized_ecov_file)\n",
    "    pytest.skip(\"Updated param files.\")"
   ]
  }
 ],
 "metadata": {
  "kernelspec": {
   "display_name": "mesmer_dev",
   "language": "python",
   "name": "python3"
  },
  "language_info": {
   "codemirror_mode": {
    "name": "ipython",
    "version": 3
   },
   "file_extension": ".py",
   "mimetype": "text/x-python",
   "name": "python",
   "nbconvert_exporter": "python",
   "pygments_lexer": "ipython3",
   "version": "3.13.1"
  }
 },
 "nbformat": 4,
 "nbformat_minor": 5
}
