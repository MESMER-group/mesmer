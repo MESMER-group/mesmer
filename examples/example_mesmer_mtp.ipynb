{
 "cells": [
  {
   "cell_type": "markdown",
   "metadata": {},
   "source": [
    "This script contains an example of MESMER-M-TP. The steps for working with MESMER-M-TP are the following\n",
    "i. "
   ]
  },
  {
   "cell_type": "code",
   "execution_count": 1,
   "metadata": {},
   "outputs": [
    {
     "name": "stdout",
     "output_type": "stream",
     "text": [
      "Using matplotlib backend: module://matplotlib_inline.backend_inline\n"
     ]
    }
   ],
   "source": [
    "%load_ext autoreload\n",
    "%autoreload 2\n",
    "%matplotlib"
   ]
  },
  {
   "cell_type": "code",
   "execution_count": 2,
   "metadata": {},
   "outputs": [],
   "source": [
    "import matplotlib.pyplot as plt"
   ]
  },
  {
   "cell_type": "code",
   "execution_count": 3,
   "metadata": {},
   "outputs": [],
   "source": [
    "import pathlib\n",
    "\n",
    "import numpy as np\n",
    "import xarray as xr\n",
    "\n",
    "import mesmer"
   ]
  },
  {
   "cell_type": "markdown",
   "metadata": {},
   "source": [
    "## Functions "
   ]
  },
  {
   "cell_type": "code",
   "execution_count": 4,
   "metadata": {},
   "outputs": [],
   "source": [
    "# functionalities\n",
    "def load_training_data(\n",
    "    fN_hist_ann, fN_proj_ann, fN_hist_mon, fN_proj_mon, REFERENCE_PERIOD, THRESHOLD_LAND\n",
    "):\n",
    "    tas_ann = xr.open_mfdataset(\n",
    "        [fN_hist_ann, fN_proj_ann],\n",
    "        combine=\"by_coords\",\n",
    "        use_cftime=True,\n",
    "        combine_attrs=\"override\",\n",
    "        data_vars=\"minimal\",\n",
    "        compat=\"override\",\n",
    "        coords=\"minimal\",\n",
    "        drop_variables=[\"height\", \"file_qf\"],\n",
    "    ).load()\n",
    "\n",
    "    # data preprocessing\n",
    "    # create global mean tas anomlies timeseries\n",
    "    tas_ann = mesmer.grid.wrap_to_180(tas_ann)\n",
    "    # convert the 0..360 grid to a -180..180 grid to be consistent with legacy code\n",
    "\n",
    "    ref = tas_ann.sel(time=REFERENCE_PERIOD).mean(\"time\", keep_attrs=True)\n",
    "    tas_ann = tas_ann - ref\n",
    "    tas_globmean = mesmer.weighted.global_mean(tas_ann)\n",
    "\n",
    "    # create local gridded tas data\n",
    "    def mask_and_stack(ds, threshold_land):\n",
    "        ds = mesmer.mask.mask_ocean_fraction(ds, threshold_land)\n",
    "        ds = mesmer.mask.mask_antarctica(ds)\n",
    "        ds = mesmer.grid.stack_lat_lon(ds)\n",
    "        return ds\n",
    "\n",
    "    tas_stacked_ann = mask_and_stack(tas_ann, threshold_land=THRESHOLD_LAND)\n",
    "\n",
    "    tas_mon = xr.open_mfdataset(\n",
    "        [fN_hist_mon, fN_proj_mon],\n",
    "        combine=\"by_coords\",\n",
    "        use_cftime=True,\n",
    "        combine_attrs=\"override\",\n",
    "        data_vars=\"minimal\",\n",
    "        compat=\"override\",\n",
    "        coords=\"minimal\",\n",
    "        drop_variables=[\"height\", \"file_qf\"],\n",
    "    ).load()\n",
    "\n",
    "    # data preprocessing\n",
    "    # create global mean tas anomlies timeseries\n",
    "    tas_mon = mesmer.grid.wrap_to_180(tas_mon)\n",
    "    # convert the 0..360 grid to a -180..180 grid to be consistent with legacy code\n",
    "\n",
    "    ref = tas_mon.sel(time=REFERENCE_PERIOD).mean(\"time\", keep_attrs=True)\n",
    "    tas_mon = tas_mon - ref\n",
    "\n",
    "    # create local gridded tas data\n",
    "    def mask_and_stack(ds, threshold_land):\n",
    "        ds = mesmer.mask.mask_ocean_fraction(ds, threshold_land)\n",
    "        ds = mesmer.mask.mask_antarctica(ds)\n",
    "        ds = mesmer.grid.stack_lat_lon(ds)\n",
    "        return ds\n",
    "\n",
    "    tas_stacked_mon = mask_and_stack(tas_mon, threshold_land=THRESHOLD_LAND)\n",
    "\n",
    "    return (tas_stacked_ann, tas_stacked_mon, tas_globmean)"
   ]
  },
  {
   "cell_type": "markdown",
   "metadata": {},
   "source": [
    "## Config"
   ]
  },
  {
   "cell_type": "code",
   "execution_count": 5,
   "metadata": {},
   "outputs": [],
   "source": [
    "# define config values\n",
    "THRESHOLD_LAND = 1 / 3\n",
    "\n",
    "REFERENCE_PERIOD = slice(\"1850\", \"1900\")\n",
    "\n",
    "HIST_PERIOD = slice(\"1850\", \"2014\")\n",
    "PROJ_PERIOD = slice(\"2015\", \"2100\")\n",
    "\n",
    "LOCALISATION_RADII = range(1750, 2001, 250)\n",
    "\n",
    "esm = \"IPSL-CM6A-LR\"\n",
    "scenario = \"ssp585\"\n",
    "run_id_training = \"r1i1p1f1\"\n",
    "test_cmip_generation = 6\n",
    "\n",
    "# define paths and load data\n",
    "CODE_PATH = pathlib.Path(\"/home/scsarah/mesmer\")\n",
    "TEST_DATA_PATH = CODE_PATH / \"tests\" / \"test-data\"\n",
    "TEST_PATH = TEST_DATA_PATH / \"output\" / \"tas\" / \"one_scen_one_ens\"\n",
    "\n",
    "cmip_data_path = (\n",
    "    TEST_DATA_PATH / \"calibrate-coarse-grid\" / f\"cmip{test_cmip_generation}-ng\"\n",
    ")\n",
    "\n",
    "\n",
    "path_tas_ann = cmip_data_path / \"tas\" / \"ann\" / \"g025\"\n",
    "fN_hist_ann = path_tas_ann / f\"tas_ann_{esm}_historical_{run_id_training}_g025.nc\"\n",
    "fN_proj_ann = path_tas_ann / f\"tas_ann_{esm}_{scenario}_{run_id_training}_g025.nc\"\n",
    "path_tas_mon = cmip_data_path / \"tas\" / \"mon\" / \"g025\"\n",
    "fN_hist_mon = path_tas_mon / f\"tas_mon_{esm}_historical_{run_id_training}_g025.nc\"\n",
    "fN_proj_mon = path_tas_mon / f\"tas_mon_{esm}_{scenario}_{run_id_training}_g025.nc\""
   ]
  },
  {
   "cell_type": "markdown",
   "metadata": {},
   "source": [
    "## MAIN"
   ]
  },
  {
   "cell_type": "markdown",
   "metadata": {},
   "source": [
    "### Loading data"
   ]
  },
  {
   "cell_type": "code",
   "execution_count": 6,
   "metadata": {},
   "outputs": [],
   "source": [
    "tas_stacked_ann, tas_stacked_mon, tas_globmean = load_training_data(\n",
    "    fN_hist_ann, fN_proj_ann, fN_hist_mon, fN_proj_mon, REFERENCE_PERIOD, THRESHOLD_LAND\n",
    ")"
   ]
  },
  {
   "cell_type": "markdown",
   "metadata": {},
   "source": [
    "### Calibrating GMT parameters"
   ]
  },
  {
   "cell_type": "code",
   "execution_count": 7,
   "metadata": {},
   "outputs": [],
   "source": [
    "# trend\n",
    "tas_globmean_lowess = mesmer.stats.lowess(\n",
    "    tas_globmean, \"time\", n_steps=50, use_coords=False\n",
    ")\n",
    "tas_lowess_residuals = tas_globmean - tas_globmean_lowess\n",
    "\n",
    "volcanic_params = mesmer.volc.fit_volcanic_influence(\n",
    "    tas_lowess_residuals.tas, hist_period=HIST_PERIOD, dim=\"time\"\n",
    ")\n",
    "\n",
    "tas_globmean_volc = mesmer.volc.superimpose_volcanic_influence(\n",
    "    tas_globmean_lowess, volcanic_params, hist_period=HIST_PERIOD, dim=\"time\"\n",
    ")"
   ]
  },
  {
   "cell_type": "code",
   "execution_count": 8,
   "metadata": {},
   "outputs": [],
   "source": [
    "# variability\n",
    "def _split_hist_proj(obj, dim=\"time\", hist_period=HIST_PERIOD, proj_period=PROJ_PERIOD):\n",
    "    hist = obj.sel({dim: hist_period})\n",
    "    proj = obj.sel({dim: proj_period})\n",
    "\n",
    "    return hist, proj\n",
    "\n",
    "\n",
    "tas_hist_globmean_smooth_volc, tas_proj_smooth = _split_hist_proj(tas_globmean_volc)\n",
    "\n",
    "tas_hist_resid_novolc = tas_globmean - tas_hist_globmean_smooth_volc\n",
    "tas_proj_resid = tas_globmean - tas_proj_smooth\n",
    "\n",
    "data = (tas_hist_resid_novolc.tas, tas_proj_resid.tas)\n",
    "\n",
    "ar_order = mesmer.stats.select_ar_order_scen_ens(\n",
    "    *data, dim=\"time\", ens_dim=\"ens\", maxlag=12, ic=\"bic\"\n",
    ")\n",
    "global_ar_params = mesmer.stats.fit_auto_regression_scen_ens(\n",
    "    *data, dim=\"time\", ens_dim=\"ens\", lags=ar_order\n",
    ")"
   ]
  },
  {
   "cell_type": "code",
   "execution_count": 9,
   "metadata": {},
   "outputs": [
    {
     "data": {
      "image/png": "[encoded data removed]",
      "text/plain": [
       "<Figure size 640x480 with 1 Axes>"
      ]
     },
     "metadata": {},
     "output_type": "display_data"
    }
   ],
   "source": [
    "# visual inspection:\n",
    "plt.figure()\n",
    "plt.plot(np.arange(1850, 2101), tas_globmean[\"tas\"])\n",
    "plt.plot(np.arange(1850, 2101), tas_globmean_lowess[\"tas\"])\n",
    "plt.show()"
   ]
  },
  {
   "cell_type": "code",
   "execution_count": 10,
   "metadata": {},
   "outputs": [],
   "source": [
    "from mesmer.core.utils import upsample_yearly_data\n",
    "\n",
    "tas_hist_globmean_smooth_volc_monthly = upsample_yearly_data(\n",
    "    tas_hist_globmean_smooth_volc.tas, tas_stacked_mon.time[: 165 * 12]\n",
    ")\n",
    "tas_hist_resid_novolc_monthly = upsample_yearly_data(\n",
    "    tas_hist_resid_novolc.tas, tas_stacked_mon.time[: 165 * 12]\n",
    ")\n",
    "tas_proj_smooth_monthly = upsample_yearly_data(\n",
    "    tas_proj_smooth.tas, tas_stacked_mon.time[165 * 12 :]\n",
    ")\n",
    "tas_proj_resid_monthly = upsample_yearly_data(\n",
    "    tas_proj_resid.tas, tas_stacked_mon.time[165 * 12 :]\n",
    ")\n",
    "\n",
    "predictors_split = {\n",
    "    \"tas_globmean\": [\n",
    "        tas_hist_globmean_smooth_volc_monthly.groupby(\"time.month\"),\n",
    "        tas_proj_smooth_monthly.groupby(\"time.month\"),\n",
    "    ],\n",
    "    \"tas_globmean_resid\": [\n",
    "        tas_hist_resid_novolc_monthly.groupby(\"time.month\"),\n",
    "        tas_proj_resid_monthly.groupby(\"time.month\"),\n",
    "    ],\n",
    "}"
   ]
  },
  {
   "cell_type": "markdown",
   "metadata": {},
   "source": [
    "### Calibrating monthly local forced response"
   ]
  },
  {
   "cell_type": "code",
   "execution_count": 11,
   "metadata": {},
   "outputs": [],
   "source": [
    "from mesmer.core.utils import upsample_yearly_data\n",
    "\n",
    "tas_hist_globmean_smooth_volc_monthly = upsample_yearly_data(\n",
    "    tas_hist_globmean_smooth_volc.tas, tas_stacked_mon.time[: 165 * 12]\n",
    ")\n",
    "tas_hist_resid_novolc_monthly = upsample_yearly_data(\n",
    "    tas_hist_resid_novolc.tas, tas_stacked_mon.time[: 165 * 12]\n",
    ")\n",
    "tas_proj_smooth_monthly = upsample_yearly_data(\n",
    "    tas_proj_smooth.tas, tas_stacked_mon.time[165 * 12 :]\n",
    ")\n",
    "tas_proj_resid_monthly = upsample_yearly_data(\n",
    "    tas_proj_resid.tas, tas_stacked_mon.time[165 * 12 :]\n",
    ")\n",
    "\n",
    "predictors_split = {\n",
    "    \"tas_globmean\": [\n",
    "        tas_hist_globmean_smooth_volc_monthly.groupby(\"time.month\"),\n",
    "        tas_proj_smooth_monthly.groupby(\"time.month\"),\n",
    "    ],\n",
    "    \"tas_globmean_resid\": [\n",
    "        tas_hist_resid_novolc_monthly.groupby(\"time.month\"),\n",
    "        tas_proj_resid_monthly.groupby(\"time.month\"),\n",
    "    ],\n",
    "}\n",
    "\n",
    "import collections\n",
    "\n",
    "predictors_mon = collections.defaultdict(dict)\n",
    "for m in range(1, 13):\n",
    "    for key, value in predictors_split.items():\n",
    "        predictors_mon[m][key] = xr.concat([v[m] for v in value], dim=\"time\")\n",
    "\n",
    "local_forced_response_mon_lr_list = []\n",
    "\n",
    "for m in range(1, 13):\n",
    "    local_forced_response_mon_lr = mesmer.stats.LinearRegression()\n",
    "\n",
    "    local_forced_response_mon_lr.fit(\n",
    "        predictors=predictors_mon[m],\n",
    "        target=tas_stacked_mon[\"tas\"].groupby(\"time.month\")[m],\n",
    "        dim=\"time\",  # switch to sample?\n",
    "    )\n",
    "\n",
    "    local_forced_response_mon_lr_list.append(local_forced_response_mon_lr)\n",
    "\n",
    "month = xr.Variable(\"month\", np.arange(1, 13))\n",
    "tas_mon_stacked_residuals = xr.merge(\n",
    "    [\n",
    "        local_forced_response_mon_lr_list[m - 1].residuals(\n",
    "            predictors=predictors_mon[m],\n",
    "            target=tas_stacked_mon[\"tas\"].groupby(\"time.month\")[m],\n",
    "        )\n",
    "        for m in range(1, 13)\n",
    "    ]\n",
    ")[\"residuals\"]\n",
    "tas_mon_stacked_fits = xr.merge(\n",
    "    [\n",
    "        local_forced_response_mon_lr_list[m - 1].predict(predictors=predictors_mon[m]).T\n",
    "        for m in range(1, 13)\n",
    "    ]\n",
    ")[\"prediction\"]"
   ]
  },
  {
   "cell_type": "code",
   "execution_count": 12,
   "metadata": {},
   "outputs": [],
   "source": [
    "# m = 1\n",
    "# for j in np.random.randint(0,118,10):\n",
    "#     print(j)\n",
    "#     plt.figure()\n",
    "#     plt.plot(tas_stacked_mon['tas'].groupby('time.month')[m][:,j])\n",
    "#     plt.plot(tas_mon_stacked_fits.values[m-1::12, j])\n",
    "#     plt.show()"
   ]
  },
  {
   "cell_type": "markdown",
   "metadata": {},
   "source": [
    "### Calibrating monthly local variability"
   ]
  },
  {
   "cell_type": "code",
   "execution_count": 29,
   "metadata": {},
   "outputs": [
    {
     "data": {
      "text/plain": [
       "True"
      ]
     },
     "execution_count": 29,
     "metadata": {},
     "output_type": "execute_result"
    }
   ],
   "source": [
    "# PCA transform\n",
    "pca_params = mesmer.stats.fit_principal_components(tas_mon_stacked_residuals, n_components=118)\n",
    "tas_mon_stacked_residuals_pca = mesmer.stats.transform_principal_components(\n",
    "    tas_mon_stacked_residuals, params=pca_params\n",
    ")\n",
    "original = mesmer.stats.inverse_transform_principal_components(\n",
    "    tas_mon_stacked_residuals_pca, params=pca_params\n",
    ")\n",
    "np.allclose(tas_mon_stacked_residuals, original)"
   ]
  },
  {
   "cell_type": "code",
   "execution_count": 14,
   "metadata": {},
   "outputs": [],
   "source": [
    "# ToDo: adjust Yeo Johnson transform to allow for 'component' dimension instead of 'gridcell' dimension\n",
    "# for now: quick and dirty fix: renaming component --> grid-cell dimenisons\n",
    "tas_mon_stacked_residuals_pca = tas_mon_stacked_residuals_pca.rename(\n",
    "    {\"component\": \"gridcell\"}\n",
    ")\n",
    "# non-stationary Yeo Johnson transform\n",
    "tas_y_data = tas_mon_stacked_fits.groupby(\"time.year\").mean()\n",
    "tas_y_data = tas_y_data.rename({\"year\": \"time\"})\n",
    "# train power transformer\n",
    "pt_coefficients = mesmer.stats.fit_yeo_johnson_transform(\n",
    "    tas_y_data, tas_mon_stacked_residuals_pca\n",
    ")\n",
    "transformed_mon_residuals = mesmer.stats.yeo_johnson_transform(\n",
    "    tas_y_data, tas_mon_stacked_residuals_pca, pt_coefficients\n",
    ")"
   ]
  },
  {
   "cell_type": "code",
   "execution_count": 26,
   "metadata": {},
   "outputs": [],
   "source": [
    "# This is not yet in xarray format...\n",
    "# fit cyclo-stationary AR(1) process\n",
    "AR1_fit = mesmer.stats.fit_auto_regression_monthly(\n",
    "    transformed_mon_residuals.transformed, time_dim=\"time\"\n",
    ")\n",
    "\n",
    "ecov = []\n",
    "for mon in range(1,13):\n",
    "    cov = np.cov(AR1_fit.residuals.groupby('time.month')[mon].data)\n",
    "    cov_adj = mesmer.stats.adjust_covariance_ar1(cov, AR1_fit[\"slope\"].sel(month=mon))\n",
    "    ecov.append(cov_adj)\n",
    "\n",
    "covariance = xr.Dataset({'covariance': (('month', 'gridcell_i', 'gridcell_j'), ecov)},\n",
    "                        coords = {'month': np.arange(1,13), \n",
    "                                  'gridcell_i': AR1_fit.gridcell, \n",
    "                                  'gridcell_j': AR1_fit.gridcell\n",
    "                                  }\n",
    "                        ) "
   ]
  },
  {
   "cell_type": "markdown",
   "metadata": {},
   "source": [
    "### Generating Emulations"
   ]
  },
  {
   "cell_type": "code",
   "execution_count": 24,
   "metadata": {},
   "outputs": [],
   "source": [
    "NR_EMUS = 10\n",
    "BUFFER = 20\n",
    "SEED = 234361146192407661971285321853135632294\n",
    "m_time = tas_stacked_mon.time\n",
    "N_TS = len(m_time)"
   ]
  },
  {
   "cell_type": "code",
   "execution_count": null,
   "metadata": {},
   "outputs": [],
   "source": [
    "# generate variability around 0 with AR(1) model\n",
    "local_variability_emus_transformed = mesmer.stats.draw_auto_regression_monthly(\n",
    "    AR1_fit,\n",
    "    covariance['covariance'],\n",
    "    time=m_time,\n",
    "    n_realisations=NR_EMUS,\n",
    "    seed=SEED,\n",
    "    buffer=BUFFER,\n",
    ")\n",
    "\n",
    "# invert the power transformation\n",
    "local_variability_emus_pca = mesmer.stats.inverse_yeo_johnson_transform(\n",
    "    tas_y_data, local_variability_emus_transformed, pt_coefficients\n",
    ")\n",
    "\n",
    "local_variability_emus = xr.concat([mesmer.stats.inverse_transform_principal_components(local_variability_emus_pca.inverted.isel(realisation = i_emu).T,\n",
    "                                                                             params = pca_params) for i_emu in range(NR_EMUS)],\n",
    "                                   dim = local_variability_emus_pca.realisation\n",
    ")\n",
    "\n",
    "# add the local variability to the monthly harmonic\n",
    "full_emulations = tas_mon_stacked_fits + local_variability_emus"
   ]
  },
  {
   "cell_type": "code",
   "execution_count": 43,
   "metadata": {},
   "outputs": [
    {
     "data": {
      "image/png": "[encoded data removed]",
      "text/plain": [
       "<Figure size 640x480 with 1 Axes>"
      ]
     },
     "metadata": {},
     "output_type": "display_data"
    }
   ],
   "source": [
    "plt.figure()\n",
    "plt.plot(full_emulations.sel(gridcell = 103).values, color = 'grey', alpha = .5)\n",
    "plt.plot(tas_stacked_mon['tas'].sel(gridcell=103).values)\n",
    "plt.show()"
   ]
  }
 ],
 "metadata": {
  "kernelspec": {
   "display_name": "mesmer-tests",
   "language": "python",
   "name": "python3"
  },
  "language_info": {
   "codemirror_mode": {
    "name": "ipython",
    "version": 3
   },
   "file_extension": ".py",
   "mimetype": "text/x-python",
   "name": "python",
   "nbconvert_exporter": "python",
   "pygments_lexer": "ipython3",
   "version": "3.13.1"
  }
 },
 "nbformat": 4,
 "nbformat_minor": 2
}
